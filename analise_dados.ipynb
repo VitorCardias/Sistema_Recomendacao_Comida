{
  "cells": [
    {
      "cell_type": "code",
      "execution_count": null,
      "id": "b118dce1",
      "metadata": {
        "colab": {
          "base_uri": "https://localhost:8080/"
        },
        "id": "b118dce1",
        "outputId": "7c59e7a6-623f-4a38-f737-fe1264253986"
      },
      "outputs": [
        {
          "name": "stdout",
          "output_type": "stream",
          "text": [
            "Drive already mounted at /content/drive; to attempt to forcibly remount, call drive.mount(\"/content/drive\", force_remount=True).\n"
          ]
        }
      ],
      "source": [
        "import pandas as pd\n",
        "import numpy as np\n",
        "import matplotlib.pyplot as plt\n",
        "import seaborn as sns\n",
        "import ast\n",
        "import xgboost as xgb\n",
        "import joblib\n",
        "\n",
        "from google.colab import drive\n",
        "from sklearn.feature_extraction.text import CountVectorizer\n",
        "from sklearn.dummy import DummyRegressor\n",
        "from sklearn.ensemble import RandomForestRegressor\n",
        "from sklearn.metrics import mean_squared_error\n",
        "\n",
        "drive.mount('/content/drive')"
      ]
    },
    {
      "cell_type": "code",
      "execution_count": 5,
      "id": "aacd60c0",
      "metadata": {
        "colab": {
          "base_uri": "https://localhost:8080/"
        },
        "id": "aacd60c0",
        "outputId": "83c995dc-4251-4994-9899-24c12d727ca7"
      },
      "outputs": [
        {
          "name": "stdout",
          "output_type": "stream",
          "text": [
            "Dados carregados com sucesso!\n",
            "Temos 698901 interações de treino.\n",
            "Temos 7023 interações de validação.\n",
            "Temos 12455 interações de teste.\n"
          ]
        }
      ],
      "source": [
        "sns.set_style('whitegrid')\n",
        "%matplotlib inline\n",
        "\n",
        "data_path = '/content/drive/MyDrive/Projetos/Trabalho_IA/archive/'\n",
        "\n",
        "try:\n",
        "    df_receitas = pd.read_csv(data_path + 'RAW_recipes.csv')\n",
        "    df_train = pd.read_csv(data_path + 'interactions_train.csv')\n",
        "    df_validation = pd.read_csv(data_path + 'interactions_validation.csv')\n",
        "    df_test = pd.read_csv(data_path + 'interactions_test.csv')\n",
        "except FileNotFoundError:\n",
        "    print(\"Erro: Verifique se o caminho para a pasta 'archive' está correto.\")\n",
        "\n",
        "print(\"Dados carregados com sucesso!\")\n",
        "print(f\"Temos {len(df_train)} interações de treino.\")\n",
        "print(f\"Temos {len(df_validation)} interações de validação.\")\n",
        "print(f\"Temos {len(df_test)} interações de teste.\")"
      ]
    },
    {
      "cell_type": "code",
      "execution_count": 6,
      "id": "5f0e2b50",
      "metadata": {
        "colab": {
          "base_uri": "https://localhost:8080/"
        },
        "id": "5f0e2b50",
        "outputId": "b8cb9350-6e47-48af-b2cd-5c69677fab3e"
      },
      "outputs": [
        {
          "name": "stdout",
          "output_type": "stream",
          "text": [
            "Amostra dos dados de treino:\n",
            "   user_id  recipe_id        date  rating      u       i\n",
            "0     2046       4684  2000-02-25     5.0  22095   44367\n",
            "1     2046        517  2000-02-25     5.0  22095   87844\n",
            "2     1773       7435  2000-03-13     5.0  24732  138181\n",
            "3     1773        278  2000-03-13     4.0  24732   93054\n",
            "4     2046       3431  2000-04-07     5.0  22095  101723\n"
          ]
        }
      ],
      "source": [
        "print(\"Amostra dos dados de treino:\")\n",
        "print(df_train.head())"
      ]
    },
    {
      "cell_type": "code",
      "execution_count": 7,
      "id": "d4750583",
      "metadata": {
        "colab": {
          "base_uri": "https://localhost:8080/"
        },
        "id": "d4750583",
        "outputId": "1bd5f4c8-51b4-4422-d720-0de68b8b0372"
      },
      "outputs": [
        {
          "name": "stdout",
          "output_type": "stream",
          "text": [
            "\n",
            "Informações do df_train:\n",
            "<class 'pandas.core.frame.DataFrame'>\n",
            "RangeIndex: 698901 entries, 0 to 698900\n",
            "Data columns (total 6 columns):\n",
            " #   Column     Non-Null Count   Dtype  \n",
            "---  ------     --------------   -----  \n",
            " 0   user_id    698901 non-null  int64  \n",
            " 1   recipe_id  698901 non-null  int64  \n",
            " 2   date       698901 non-null  object \n",
            " 3   rating     698901 non-null  float64\n",
            " 4   u          698901 non-null  int64  \n",
            " 5   i          698901 non-null  int64  \n",
            "dtypes: float64(1), int64(4), object(1)\n",
            "memory usage: 32.0+ MB\n"
          ]
        }
      ],
      "source": [
        "# Informações gerais sobre o DataFrame\n",
        "print(\"\\nInformações do df_train:\")\n",
        "df_train.info()"
      ]
    },
    {
      "cell_type": "code",
      "execution_count": 8,
      "id": "1a06b754",
      "metadata": {
        "colab": {
          "base_uri": "https://localhost:8080/"
        },
        "id": "1a06b754",
        "outputId": "6bec1670-15be-430c-8811-3e18c46af048"
      },
      "outputs": [
        {
          "name": "stdout",
          "output_type": "stream",
          "text": [
            "\n",
            "Estatísticas da coluna 'rating':\n",
            "count    698901.000000\n",
            "mean          4.574090\n",
            "std           0.959022\n",
            "min           0.000000\n",
            "25%           4.000000\n",
            "50%           5.000000\n",
            "75%           5.000000\n",
            "max           5.000000\n",
            "Name: rating, dtype: float64\n"
          ]
        }
      ],
      "source": [
        "# Estatísticas descritivas da coluna 'rating'\n",
        "print(\"\\nEstatísticas da coluna 'rating':\")\n",
        "print(df_train['rating'].describe())"
      ]
    },
    {
      "cell_type": "code",
      "execution_count": 9,
      "id": "9700c2b2",
      "metadata": {
        "colab": {
          "base_uri": "https://localhost:8080/",
          "height": 671
        },
        "id": "9700c2b2",
        "outputId": "6d51a885-4a9a-4b55-8497-6d2283af3255"
      },
      "outputs": [
        {
          "name": "stderr",
          "output_type": "stream",
          "text": [
            "/tmp/ipython-input-3186563511.py:3: FutureWarning: \n",
            "\n",
            "Passing `palette` without assigning `hue` is deprecated and will be removed in v0.14.0. Assign the `x` variable to `hue` and set `legend=False` for the same effect.\n",
            "\n",
            "  sns.countplot(x='rating', data=df_train, palette='viridis')\n"
          ]
        },
        {
          "data": {
            "image/png": "[encoded data removed]",
            "text/plain": [
              "<Figure size 1000x600 with 1 Axes>"
            ]
          },
          "metadata": {},
          "output_type": "display_data"
        }
      ],
      "source": [
        "# Plotando a distribuição das notas (ratings)\n",
        "plt.figure(figsize=(10, 6))\n",
        "sns.countplot(x='rating', data=df_train, palette='viridis')\n",
        "plt.title('Distribuição das Notas (Ratings) no Conjunto de Treino')\n",
        "plt.xlabel('Nota')\n",
        "plt.ylabel('Contagem')\n",
        "plt.show()"
      ]
    },
    {
      "cell_type": "code",
      "execution_count": 10,
      "id": "b2c5ffa8",
      "metadata": {
        "colab": {
          "base_uri": "https://localhost:8080/"
        },
        "id": "b2c5ffa8",
        "outputId": "e4486120-7492-4b34-bb76-7f1ed709ae88"
      },
      "outputs": [
        {
          "name": "stdout",
          "output_type": "stream",
          "text": [
            "Amostra dos dados de receitas:\n",
            "                                         name      id  minutes  \\\n",
            "0  arriba   baked winter squash mexican style  137739       55   \n",
            "1            a bit different  breakfast pizza   31490       30   \n",
            "2                   all in the kitchen  chili  112140      130   \n",
            "3                          alouette  potatoes   59389       45   \n",
            "4          amish  tomato ketchup  for canning   44061      190   \n",
            "\n",
            "   contributor_id   submitted  \\\n",
            "0           47892  2005-09-16   \n",
            "1           26278  2002-06-17   \n",
            "2          196586  2005-02-25   \n",
            "3           68585  2003-04-14   \n",
            "4           41706  2002-10-25   \n",
            "\n",
            "                                                tags  \\\n",
            "0  ['60-minutes-or-less', 'time-to-make', 'course...   \n",
            "1  ['30-minutes-or-less', 'time-to-make', 'course...   \n",
            "2  ['time-to-make', 'course', 'preparation', 'mai...   \n",
            "3  ['60-minutes-or-less', 'time-to-make', 'course...   \n",
            "4  ['weeknight', 'time-to-make', 'course', 'main-...   \n",
            "\n",
            "                                    nutrition  n_steps  \\\n",
            "0       [51.5, 0.0, 13.0, 0.0, 2.0, 0.0, 4.0]       11   \n",
            "1   [173.4, 18.0, 0.0, 17.0, 22.0, 35.0, 1.0]        9   \n",
            "2  [269.8, 22.0, 32.0, 48.0, 39.0, 27.0, 5.0]        6   \n",
            "3   [368.1, 17.0, 10.0, 2.0, 14.0, 8.0, 20.0]       11   \n",
            "4   [352.9, 1.0, 337.0, 23.0, 3.0, 0.0, 28.0]        5   \n",
            "\n",
            "                                               steps  \\\n",
            "0  ['make a choice and proceed with recipe', 'dep...   \n",
            "1  ['preheat oven to 425 degrees f', 'press dough...   \n",
            "2  ['brown ground beef in large pot', 'add choppe...   \n",
            "3  ['place potatoes in a large pot of lightly sal...   \n",
            "4  ['mix all ingredients& boil for 2 1 / 2 hours ...   \n",
            "\n",
            "                                         description  \\\n",
            "0  autumn is my favorite time of year to cook! th...   \n",
            "1  this recipe calls for the crust to be prebaked...   \n",
            "2  this modified version of 'mom's' chili was a h...   \n",
            "3  this is a super easy, great tasting, make ahea...   \n",
            "4  my dh's amish mother raised him on this recipe...   \n",
            "\n",
            "                                         ingredients  n_ingredients  \n",
            "0  ['winter squash', 'mexican seasoning', 'mixed ...              7  \n",
            "1  ['prepared pizza crust', 'sausage patty', 'egg...              6  \n",
            "2  ['ground beef', 'yellow onions', 'diced tomato...             13  \n",
            "3  ['spreadable cheese with garlic and herbs', 'n...             11  \n",
            "4  ['tomato juice', 'apple cider vinegar', 'sugar...              8  \n"
          ]
        }
      ],
      "source": [
        "# ANALISANDO AS RECEITAS\n",
        "print(\"Amostra dos dados de receitas:\")\n",
        "print(df_receitas.head())"
      ]
    },
    {
      "cell_type": "code",
      "execution_count": 11,
      "id": "21acd776",
      "metadata": {
        "colab": {
          "base_uri": "https://localhost:8080/"
        },
        "id": "21acd776",
        "outputId": "fee21efb-6cf9-48c5-8de9-ded512e92651"
      },
      "outputs": [
        {
          "name": "stdout",
          "output_type": "stream",
          "text": [
            "\n",
            "Informações do df_receitas:\n",
            "<class 'pandas.core.frame.DataFrame'>\n",
            "RangeIndex: 231637 entries, 0 to 231636\n",
            "Data columns (total 12 columns):\n",
            " #   Column          Non-Null Count   Dtype \n",
            "---  ------          --------------   ----- \n",
            " 0   name            231636 non-null  object\n",
            " 1   id              231637 non-null  int64 \n",
            " 2   minutes         231637 non-null  int64 \n",
            " 3   contributor_id  231637 non-null  int64 \n",
            " 4   submitted       231637 non-null  object\n",
            " 5   tags            231637 non-null  object\n",
            " 6   nutrition       231637 non-null  object\n",
            " 7   n_steps         231637 non-null  int64 \n",
            " 8   steps           231637 non-null  object\n",
            " 9   description     226658 non-null  object\n",
            " 10  ingredients     231637 non-null  object\n",
            " 11  n_ingredients   231637 non-null  int64 \n",
            "dtypes: int64(5), object(7)\n",
            "memory usage: 21.2+ MB\n"
          ]
        }
      ],
      "source": [
        "# Informações gerais\n",
        "print(\"\\nInformações do df_receitas:\")\n",
        "df_receitas.info()"
      ]
    },
    {
      "cell_type": "code",
      "execution_count": 12,
      "id": "d29fcdfc",
      "metadata": {
        "colab": {
          "base_uri": "https://localhost:8080/",
          "height": 569
        },
        "id": "d29fcdfc",
        "outputId": "f4346dc5-f86d-40bb-867b-beb98afa7ad5"
      },
      "outputs": [
        {
          "data": {
            "image/png": "[encoded data removed]",
            "text/plain": [
              "<Figure size 1200x600 with 1 Axes>"
            ]
          },
          "metadata": {},
          "output_type": "display_data"
        }
      ],
      "source": [
        "# Análise do tempo de preparo ('minutes')\n",
        "plt.figure(figsize=(12, 6))\n",
        "sns.histplot(df_receitas['minutes'], bins=100, log_scale=True)\n",
        "plt.title('Distribuição do Tempo de Preparo (em minutos)')\n",
        "plt.xlabel('Minutos (Escala Logarítmica)')\n",
        "plt.show()"
      ]
    },
    {
      "cell_type": "code",
      "execution_count": 13,
      "id": "0f533ef3",
      "metadata": {
        "colab": {
          "base_uri": "https://localhost:8080/",
          "height": 565
        },
        "id": "0f533ef3",
        "outputId": "7a29f20c-967d-4b56-f00d-d7a77c3810e4"
      },
      "outputs": [
        {
          "data": {
            "image/png": "[encoded data removed]",
            "text/plain": [
              "<Figure size 1200x600 with 1 Axes>"
            ]
          },
          "metadata": {},
          "output_type": "display_data"
        }
      ],
      "source": [
        "# Análise do número de ingredientes ('n_ingredients')\n",
        "plt.figure(figsize=(12, 6))\n",
        "sns.histplot(df_receitas['n_ingredients'], bins=50)\n",
        "plt.title('Distribuição do Número de Ingredientes por Receita')\n",
        "plt.xlabel('Número de Ingredientes')\n",
        "plt.xlim(0, 40)\n",
        "plt.show()"
      ]
    },
    {
      "cell_type": "code",
      "execution_count": 14,
      "id": "2917bdb6",
      "metadata": {
        "colab": {
          "base_uri": "https://localhost:8080/"
        },
        "id": "2917bdb6",
        "outputId": "c9d67cbf-bf63-41f5-9415-0a2c8621b1d3"
      },
      "outputs": [
        {
          "name": "stdout",
          "output_type": "stream",
          "text": [
            "Calculando features de receitas...\n",
            "Calculando features de usuários...\n"
          ]
        }
      ],
      "source": [
        "\n",
        "print(\"Calculando features de receitas...\")\n",
        "media_rating_por_item = df_train.groupby('recipe_id')['rating'].mean().rename('media_rating_item')\n",
        "num_avaliacoes_por_item = df_train.groupby('recipe_id')['rating'].count().rename('num_avaliacoes_item')\n",
        "\n",
        "df_receitas = df_receitas.merge(media_rating_por_item, left_on='id', right_index=True, how='left')\n",
        "df_receitas = df_receitas.merge(num_avaliacoes_por_item, left_on='id', right_index=True, how='left')\n",
        "\n",
        "\n",
        "print(\"Calculando features de usuários...\")\n",
        "media_rating_por_usuario = df_train.groupby('user_id')['rating'].mean().rename('media_rating_usuario')\n",
        "num_avaliacoes_por_usuario = df_train.groupby('user_id')['rating'].count().rename('num_avaliacoes_usuario')\n",
        "df_users = pd.DataFrame(media_rating_por_usuario).join(num_avaliacoes_por_usuario)\n"
      ]
    },
    {
      "cell_type": "code",
      "execution_count": 15,
      "id": "e383a077",
      "metadata": {
        "colab": {
          "base_uri": "https://localhost:8080/"
        },
        "id": "e383a077",
        "outputId": "119f47c9-b9be-4117-9d77-c889b8d8fa56"
      },
      "outputs": [
        {
          "name": "stdout",
          "output_type": "stream",
          "text": [
            "Criando features temporais...\n"
          ]
        }
      ],
      "source": [
        "# CRIAÇÃO DE OUTRAS FEATURES (Temporais, Tags, Nutrição)\n",
        "# Features Temporais\n",
        "print(\"Criando features temporais...\")\n",
        "df_receitas['submitted'] = pd.to_datetime(df_receitas['submitted'])\n",
        "df_receitas['ano_publicacao'] = df_receitas['submitted'].dt.year\n",
        "df_receitas['mes_publicacao'] = df_receitas['submitted'].dt.month\n",
        "data_recente = df_receitas['submitted'].max()\n",
        "df_receitas['idade_receita_dias'] = (data_recente - df_receitas['submitted']).dt.days"
      ]
    },
    {
      "cell_type": "code",
      "execution_count": 16,
      "id": "ZSY6N0iUOi_b",
      "metadata": {
        "colab": {
          "base_uri": "https://localhost:8080/"
        },
        "id": "ZSY6N0iUOi_b",
        "outputId": "869992e5-fc5f-4a98-e973-c1f95c3b3e8d"
      },
      "outputs": [
        {
          "name": "stdout",
          "output_type": "stream",
          "text": [
            "Criando features de tags...\n"
          ]
        }
      ],
      "source": [
        "# 2.2 Features de Tags\n",
        "print(\"Criando features de tags...\")\n",
        "df_receitas['tags_limpas'] = df_receitas['tags'].apply(lambda x: ' '.join(ast.literal_eval(x)))\n",
        "vectorizer = CountVectorizer(max_features=30, binary=True)\n",
        "tags_matrix = vectorizer.fit_transform(df_receitas['tags_limpas'])\n",
        "df_tags = pd.DataFrame(tags_matrix.toarray(), index=df_receitas.index, columns=['tag_' + tag for tag in vectorizer.get_feature_names_out()])\n",
        "df_receitas = pd.concat([df_receitas, df_tags], axis=1)"
      ]
    },
    {
      "cell_type": "code",
      "execution_count": 17,
      "id": "145_EJPjOoqv",
      "metadata": {
        "colab": {
          "base_uri": "https://localhost:8080/"
        },
        "id": "145_EJPjOoqv",
        "outputId": "89f77275-5616-4e50-880b-7a72a57e440a"
      },
      "outputs": [
        {
          "name": "stdout",
          "output_type": "stream",
          "text": [
            "Criando features de nutrição...\n"
          ]
        }
      ],
      "source": [
        "# Feature de Nutrição\n",
        "print(\"Criando features de nutrição...\")\n",
        "def tratar_coluna_nutricao(df):\n",
        "    df_copy = df.copy()\n",
        "    coluna_nutrition_str = df_copy['nutrition'].fillna('[]').astype(str)\n",
        "    lista_nutrition = coluna_nutrition_str.apply(ast.literal_eval)\n",
        "    df_nutrition = pd.DataFrame(lista_nutrition.tolist(), index=df_copy.index)\n",
        "    df_nutrition.columns = [f'nutri_{i}' for i in range(df_nutrition.shape[1])]\n",
        "    df_final = pd.concat([df_copy, df_nutrition], axis=1)\n",
        "    df_final = df_final.drop('nutrition', axis=1)\n",
        "    return df_final\n",
        "df_receitas = tratar_coluna_nutricao(df_receitas)"
      ]
    },
    {
      "cell_type": "code",
      "execution_count": 18,
      "id": "ndKSQwgMOoyy",
      "metadata": {
        "colab": {
          "base_uri": "https://localhost:8080/"
        },
        "id": "ndKSQwgMOoyy",
        "outputId": "a6196c68-644f-4245-d05a-cb71ae790397"
      },
      "outputs": [
        {
          "name": "stdout",
          "output_type": "stream",
          "text": [
            "A média geral de rating (nossa melhor estimativa) é: 4.5741\n"
          ]
        },
        {
          "name": "stderr",
          "output_type": "stream",
          "text": [
            "/tmp/ipython-input-786255104.py:13: FutureWarning: A value is trying to be set on a copy of a DataFrame or Series through chained assignment using an inplace method.\n",
            "The behavior will change in pandas 3.0. This inplace method will never work because the intermediate object on which we are setting values always behaves as a copy.\n",
            "\n",
            "For example, when doing 'df[col].method(value, inplace=True)', try using 'df.method({col: value}, inplace=True)' or df[col] = df[col].method(value) instead, to perform the operation inplace on the original object.\n",
            "\n",
            "\n",
            "  df_final['media_rating_item'].fillna(media_global, inplace=True)\n",
            "/tmp/ipython-input-786255104.py:14: FutureWarning: A value is trying to be set on a copy of a DataFrame or Series through chained assignment using an inplace method.\n",
            "The behavior will change in pandas 3.0. This inplace method will never work because the intermediate object on which we are setting values always behaves as a copy.\n",
            "\n",
            "For example, when doing 'df[col].method(value, inplace=True)', try using 'df.method({col: value}, inplace=True)' or df[col] = df[col].method(value) instead, to perform the operation inplace on the original object.\n",
            "\n",
            "\n",
            "  df_final['media_rating_usuario'].fillna(media_global, inplace=True)\n",
            "/tmp/ipython-input-786255104.py:13: FutureWarning: A value is trying to be set on a copy of a DataFrame or Series through chained assignment using an inplace method.\n",
            "The behavior will change in pandas 3.0. This inplace method will never work because the intermediate object on which we are setting values always behaves as a copy.\n",
            "\n",
            "For example, when doing 'df[col].method(value, inplace=True)', try using 'df.method({col: value}, inplace=True)' or df[col] = df[col].method(value) instead, to perform the operation inplace on the original object.\n",
            "\n",
            "\n",
            "  df_final['media_rating_item'].fillna(media_global, inplace=True)\n",
            "/tmp/ipython-input-786255104.py:14: FutureWarning: A value is trying to be set on a copy of a DataFrame or Series through chained assignment using an inplace method.\n",
            "The behavior will change in pandas 3.0. This inplace method will never work because the intermediate object on which we are setting values always behaves as a copy.\n",
            "\n",
            "For example, when doing 'df[col].method(value, inplace=True)', try using 'df.method({col: value}, inplace=True)' or df[col] = df[col].method(value) instead, to perform the operation inplace on the original object.\n",
            "\n",
            "\n",
            "  df_final['media_rating_usuario'].fillna(media_global, inplace=True)\n",
            "/tmp/ipython-input-786255104.py:13: FutureWarning: A value is trying to be set on a copy of a DataFrame or Series through chained assignment using an inplace method.\n",
            "The behavior will change in pandas 3.0. This inplace method will never work because the intermediate object on which we are setting values always behaves as a copy.\n",
            "\n",
            "For example, when doing 'df[col].method(value, inplace=True)', try using 'df.method({col: value}, inplace=True)' or df[col] = df[col].method(value) instead, to perform the operation inplace on the original object.\n",
            "\n",
            "\n",
            "  df_final['media_rating_item'].fillna(media_global, inplace=True)\n",
            "/tmp/ipython-input-786255104.py:14: FutureWarning: A value is trying to be set on a copy of a DataFrame or Series through chained assignment using an inplace method.\n",
            "The behavior will change in pandas 3.0. This inplace method will never work because the intermediate object on which we are setting values always behaves as a copy.\n",
            "\n",
            "For example, when doing 'df[col].method(value, inplace=True)', try using 'df.method({col: value}, inplace=True)' or df[col] = df[col].method(value) instead, to perform the operation inplace on the original object.\n",
            "\n",
            "\n",
            "  df_final['media_rating_usuario'].fillna(media_global, inplace=True)\n"
          ]
        },
        {
          "name": "stdout",
          "output_type": "stream",
          "text": [
            "\n",
            "Feature de desvio do item criada:\n",
            "   media_rating_item  item_desvio_media_geral\n",
            "0           4.944444                 0.370355\n",
            "1           5.000000                 0.425910\n",
            "2           4.440000                -0.134090\n",
            "3           4.416667                -0.157423\n",
            "4           4.875000                 0.300910\n",
            "\n",
            "Feature de desvio do usuário criada:\n",
            "   rating  media_rating_usuario  rating_desvio_usuario\n",
            "0     5.0                   5.0                    0.0\n",
            "1     5.0                   5.0                    0.0\n",
            "2     5.0                   4.5                    0.5\n",
            "3     4.0                   4.5                   -0.5\n",
            "4     5.0                   5.0                    0.0\n"
          ]
        }
      ],
      "source": [
        "media_geral_rating = df_train['rating'].mean()\n",
        "print(f\"A média geral de rating (nossa melhor estimativa) é: {media_geral_rating:.4f}\")\n",
        "\n",
        "# Adicione a feature de desvio do item diretamente no DataFrame de receitas que depois vai para todos os items finais\n",
        "df_receitas['item_desvio_media_geral'] = df_receitas['media_rating_item'] - media_geral_rating\n",
        "\n",
        "def criar_conjunto_final(df_interacoes, df_receitas, df_users, media_global):\n",
        "    df_final = df_interacoes.merge(df_receitas, left_on='recipe_id', right_on='id', how='left')\n",
        "    df_final = df_final.merge(df_users, on='user_id', how='left')\n",
        "\n",
        "    df_final['media_rating_item'].fillna(media_global, inplace=True)\n",
        "    df_final['media_rating_usuario'].fillna(media_global, inplace=True)\n",
        "    df_final.fillna(0, inplace=True)\n",
        "    return df_final\n",
        "\n",
        "train_final = criar_conjunto_final(df_train, df_receitas, df_users, media_geral_rating)\n",
        "validation_final = criar_conjunto_final(df_validation, df_receitas, df_users, media_geral_rating)\n",
        "test_final = criar_conjunto_final(df_test, df_receitas, df_users, media_geral_rating)\n",
        "\n",
        "# Esta feature que vai pegar o \"Humor\" do cliente, precisa ser criada depois que ja exite os conjuntos finais\n",
        "train_final['rating_desvio_usuario'] = train_final['rating'] - train_final['media_rating_usuario']\n",
        "validation_final['rating_desvio_usuario'] = validation_final['rating'] - validation_final['media_rating_usuario']\n",
        "test_final['rating_desvio_usuario'] = test_final['rating'] - test_final['media_rating_usuario']\n",
        "\n",
        "print(\"\\nFeature de desvio do item criada:\")\n",
        "print(train_final[['media_rating_item', 'item_desvio_media_geral']].head())\n",
        "\n",
        "print(\"\\nFeature de desvio do usuário criada:\")\n",
        "print(train_final[['rating', 'media_rating_usuario', 'rating_desvio_usuario']].head())"
      ]
    },
    {
      "cell_type": "code",
      "execution_count": 19,
      "id": "KhnUKr9cOo7h",
      "metadata": {
        "colab": {
          "base_uri": "https://localhost:8080/"
        },
        "id": "KhnUKr9cOo7h",
        "outputId": "34c214bc-d3ca-4431-e146-c0d1eba6eea3"
      },
      "outputs": [
        {
          "name": "stdout",
          "output_type": "stream",
          "text": [
            "\n",
            "Número final de features no modelo: 52\n"
          ]
        }
      ],
      "source": [
        "target = 'rating'\n",
        "features_para_remover = [\n",
        "    target, 'user_id', 'recipe_id', 'id', 'name', 'submitted', 'date',\n",
        "    'tags', 'description', 'ingredients', 'steps', 'tags_limpas'\n",
        "]\n",
        "train_cols = train_final.columns\n",
        "features_para_remover_existentes = [col for col in features_para_remover if col in train_cols]\n",
        "features = [col for col in train_final.columns if col not in features_para_remover_existentes]\n",
        "\n",
        "X_train = train_final[features]\n",
        "y_train = train_final[target]\n",
        "X_val = validation_final[features]\n",
        "y_val = validation_final[target]\n",
        "X_test = test_final[features]\n",
        "y_test = test_final[target]\n",
        "\n",
        "print(f\"\\nNúmero final de features no modelo: {len(features)}\")"
      ]
    },
    {
      "cell_type": "code",
      "execution_count": 20,
      "id": "T5m9K3ExBQkj",
      "metadata": {
        "colab": {
          "base_uri": "https://localhost:8080/"
        },
        "id": "T5m9K3ExBQkj",
        "outputId": "2afcf302-73ad-4031-f392-e94ef3362f50"
      },
      "outputs": [
        {
          "name": "stdout",
          "output_type": "stream",
          "text": [
            "--- Calculando o Modelo Baseline ---\n",
            "RMSE do Modelo Baseline (na validação): 1.3468\n"
          ]
        }
      ],
      "source": [
        "print(\"--- Calculando o Modelo Baseline ---\")\n",
        "baseline_model = DummyRegressor(strategy='mean')\n",
        "baseline_model.fit(X_train, y_train)\n",
        "\n",
        "y_pred_baseline = baseline_model.predict(X_val)\n",
        "\n",
        "# Calcular o RMSE para o baseline\n",
        "mse_baseline = mean_squared_error(y_val, y_pred_baseline)\n",
        "rmse_baseline = np.sqrt(mse_baseline)\n",
        "\n",
        "print(f\"RMSE do Modelo Baseline (na validação): {rmse_baseline:.4f}\")"
      ]
    },
    {
      "cell_type": "code",
      "execution_count": 21,
      "id": "NwtdB2z06e7D",
      "metadata": {
        "colab": {
          "base_uri": "https://localhost:8080/"
        },
        "id": "NwtdB2z06e7D",
        "outputId": "7233f7b4-e18a-44b9-fa89-8da35428d1cb"
      },
      "outputs": [
        {
          "name": "stdout",
          "output_type": "stream",
          "text": [
            "\n",
            "--- Treinando RandomForest Simplificado (com dados corrigidos) ---\n",
            "RMSE de Treino do RandomForest: 0.0066\n",
            "RMSE de Validação do RandomForest: 0.1241\n",
            "\n",
            "--- Treinando XGBoost Simplificado (com dados corrigidos) ---\n",
            "RMSE de Treino do XGBoost: 0.0204\n",
            "RMSE de Validação do XGBoost: 0.0772\n",
            "\n",
            "Lembre-se: O RMSE do Baseline é: 1.3468\n"
          ]
        }
      ],
      "source": [
        "rf_simples = RandomForestRegressor(\n",
        "    n_estimators=100,\n",
        "    max_depth=10,\n",
        "    min_samples_leaf=15,\n",
        "    random_state=42,\n",
        "    n_jobs=-1\n",
        ")\n",
        "\n",
        "print(\"\\n--- Treinando RandomForest Simplificado (com dados corrigidos) ---\")\n",
        "rf_simples.fit(X_train, y_train)\n",
        "\n",
        "# Avaliação\n",
        "y_pred_treino_rf = rf_simples.predict(X_train)\n",
        "mse_treino_rf = mean_squared_error(y_train, y_pred_treino_rf)\n",
        "rmse_treino_rf = np.sqrt(mse_treino_rf)\n",
        "\n",
        "print(f\"RMSE de Treino do RandomForest: {rmse_treino_rf:.4f}\")\n",
        "\n",
        "y_pred_val_rf = rf_simples.predict(X_val)\n",
        "mse_val_rf = mean_squared_error(y_val, y_pred_val_rf)\n",
        "rmse_val_rf = np.sqrt(mse_val_rf)\n",
        "\n",
        "print(f\"RMSE de Validação do RandomForest: {rmse_val_rf:.4f}\")\n",
        "\n",
        "xgb_simples = xgb.XGBRegressor(\n",
        "    objective='reg:squarederror',\n",
        "    n_estimators=200,\n",
        "    max_depth=7,\n",
        "    learning_rate=0.05,\n",
        "    gamma=1,\n",
        "    random_state=42,\n",
        "    n_jobs=-1\n",
        ")\n",
        "\n",
        "print(\"\\n--- Treinando XGBoost Simplificado (com dados corrigidos) ---\")\n",
        "xgb_simples.fit(X_train, y_train)\n",
        "\n",
        "# Avaliação\n",
        "y_pred_treino_xgb = xgb_simples.predict(X_train)\n",
        "mse_treino_xgb = mean_squared_error(y_train, y_pred_treino_xgb)\n",
        "rmse_treino_xgb = np.sqrt(mse_treino_xgb)\n",
        "print(f\"RMSE de Treino do XGBoost: {rmse_treino_xgb:.4f}\")\n",
        "\n",
        "y_pred_val_xgb = xgb_simples.predict(X_val)\n",
        "mse_val_xgb = mean_squared_error(y_val, y_pred_val_xgb)\n",
        "rmse_val_xgb = np.sqrt(mse_val_xgb)\n",
        "print(f\"RMSE de Validação do XGBoost: {rmse_val_xgb:.4f}\")\n",
        "\n",
        "print(f\"\\nLembre-se: O RMSE do Baseline é: {rmse_baseline:.4f}\")"
      ]
    },
    {
      "cell_type": "code",
      "execution_count": 27,
      "id": "3XkLPjE0D3ah",
      "metadata": {
        "colab": {
          "base_uri": "https://localhost:8080/"
        },
        "id": "3XkLPjE0D3ah",
        "outputId": "853e91de-bdb3-4271-adce-47247477795a"
      },
      "outputs": [
        {
          "name": "stdout",
          "output_type": "stream",
          "text": [
            "\n",
            "--- Treinando RandomForest Refinado ---\n",
            "RMSE de Validação (Random Forest Refinado): 0.1542\n",
            "\n",
            "--- Treinando XGBoost Refinado ---\n",
            "RMSE de Validação (XGBoost Refinado): 0.0771\n",
            "\n",
            "Lembre-se: O RMSE do Baseline é: 1.3468\n"
          ]
        }
      ],
      "source": [
        "# Aumentei o valor do min_simple_leaf para combater o overfitting\n",
        "rf_refinado = RandomForestRegressor(\n",
        "    n_estimators=100,\n",
        "    max_depth=10,\n",
        "    min_samples_leaf=40,\n",
        "    random_state=42,\n",
        "    n_jobs=-1\n",
        ")\n",
        "\n",
        "print(\"\\n--- Treinando RandomForest Refinado ---\")\n",
        "rf_refinado.fit(X_train, y_train)\n",
        "\n",
        "# Validação do treinamento refinado\n",
        "y_pred_val_rf_refinado = rf_refinado.predict(X_val)\n",
        "rmse_val_rf_refinado = np.sqrt(mean_squared_error(y_val, y_pred_val_rf_refinado))\n",
        "print(f\"RMSE de Validação (Random Forest Refinado): {rmse_val_rf_refinado:.4f}\")\n",
        "\n",
        "# Aumentei o número de árvores e diminui a taxa de aprendizado\n",
        "xgb_refinado = xgb.XGBRegressor(\n",
        "    objective='reg:squarederror',\n",
        "    n_estimators=500,\n",
        "    max_depth=7,\n",
        "    learning_rate=0.02,\n",
        "    gamma=1,\n",
        "    random_state=42,\n",
        "    n_jobs=-1\n",
        ")\n",
        "\n",
        "print(\"\\n--- Treinando XGBoost Refinado ---\")\n",
        "xgb_refinado.fit(X_train, y_train)\n",
        "\n",
        "# Validação modelo XGBoost refinado\n",
        "y_pred_val_xgb_refinado = xgb_refinado.predict(X_val)\n",
        "rmse_val_xgb_refinado = np.sqrt(mean_squared_error(y_val, y_pred_val_xgb_refinado))\n",
        "print(f\"RMSE de Validação (XGBoost Refinado): {rmse_val_xgb_refinado:.4f}\")\n",
        "\n",
        "print(f\"\\nLembre-se: O RMSE do Baseline é: {rmse_baseline:.4f}\")"
      ]
    },
    {
      "cell_type": "code",
      "execution_count": 24,
      "id": "72udCp8UBLrV",
      "metadata": {
        "colab": {
          "base_uri": "https://localhost:8080/",
          "height": 718
        },
        "id": "72udCp8UBLrV",
        "outputId": "a6ccff9c-fb89-4fca-e8ef-8f75cbc0a9fa"
      },
      "outputs": [
        {
          "data": {
            "image/png": "[encoded data removed]",
            "text/plain": [
              "<Figure size 1000x800 with 1 Axes>"
            ]
          },
          "metadata": {},
          "output_type": "display_data"
        }
      ],
      "source": [
        "# Criar um DataFrame com a importância das features\n",
        "feature_importance = pd.DataFrame({\n",
        "    'feature': X_train.columns,\n",
        "    'importance': xgb_refinado.feature_importances_\n",
        "}).sort_values('importance', ascending=False)\n",
        "\n",
        "# Plotar as 20 features mais importantes\n",
        "plt.figure(figsize=(10, 8))\n",
        "sns.barplot(x='importance', y='feature', data=feature_importance.head(20))\n",
        "plt.title('As 20 Features Mais Importantes - Modelo XGBoost')\n",
        "plt.show()"
      ]
    },
    {
      "cell_type": "code",
      "execution_count": 25,
      "id": "qrLlhQTsUh-G",
      "metadata": {
        "colab": {
          "base_uri": "https://localhost:8080/"
        },
        "id": "qrLlhQTsUh-G",
        "outputId": "fc57429b-ee32-4392-a00f-de08cc170e96"
      },
      "outputs": [
        {
          "name": "stdout",
          "output_type": "stream",
          "text": [
            "RMSE FINAL do XGBoost no Conjunto de TESTE: 0.0947\n"
          ]
        }
      ],
      "source": [
        "# Fazer previsões no conjunto de TESTE\n",
        "y_pred_test_xgb = xgb_refinado.predict(X_test)\n",
        "mse_test_xgb = mean_squared_error(y_test, y_pred_test_xgb)\n",
        "rmse_test_xgb = np.sqrt(mse_test_xgb)\n",
        "print(f\"RMSE FINAL do XGBoost no Conjunto de TESTE: {rmse_test_xgb:.4f}\")"
      ]
    },
    {
      "cell_type": "code",
      "execution_count": null,
      "id": "nW6XXe8-VIP3",
      "metadata": {
        "colab": {
          "base_uri": "https://localhost:8080/"
        },
        "id": "nW6XXe8-VIP3",
        "outputId": "96aaa53d-0221-44e7-bbde-bf13f970c4eb"
      },
      "outputs": [
        {
          "name": "stdout",
          "output_type": "stream",
          "text": [
            "Modelo salvo com sucesso em: modelo_xgboost_final.joblib\n",
            "Vectorizer salvo com sucesso em: tags_vectorizer.joblib\n"
          ]
        }
      ],
      "source": [
        "# Nome do arquivo para o modelo\n",
        "model_filename = 'modelo_xgboost_final.joblib'\n",
        "\n",
        "# Salva o seu melhor modelo treinado\n",
        "joblib.dump(xgb_refinado, model_filename)\n",
        "print(f\"Modelo salvo com sucesso em: {model_filename}\")\n",
        "\n",
        "vectorizer_filename = 'tags_vectorizer.joblib'\n",
        "joblib.dump(vectorizer, vectorizer_filename)\n",
        "print(f\"Vectorizer salvo com sucesso em: {vectorizer_filename}\")"
      ]
    }
  ],
  "metadata": {
    "colab": {
      "provenance": []
    },
    "kernelspec": {
      "display_name": "Python 3",
      "language": "python",
      "name": "python3"
    },
    "language_info": {
      "codemirror_mode": {
        "name": "ipython",
        "version": 3
      },
      "file_extension": ".py",
      "mimetype": "text/x-python",
      "name": "python",
      "nbconvert_exporter": "python",
      "pygments_lexer": "ipython3",
      "version": "3.12.2"
    }
  },
  "nbformat": 4,
  "nbformat_minor": 5
}
